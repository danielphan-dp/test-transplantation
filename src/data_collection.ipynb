{
 "cells": [
  {
   "cell_type": "code",
   "execution_count": 51,
   "metadata": {},
   "outputs": [],
   "source": [
    "import os\n",
    "import ast\n",
    "import json"
   ]
  },
  {
   "cell_type": "code",
   "execution_count": 73,
   "metadata": {},
   "outputs": [],
   "source": [
    "def IsTestFile(filename: str) -> bool:\n",
    "    filename = filename.lower()\n",
    "    if filename.endswith(\".py\") and \"test\" in filename:\n",
    "        return True\n",
    "    return False\n",
    "\n",
    "\n",
    "def WriteToJson(filename:str, data:list):\n",
    "    with open(filename,\"w\") as f:\n",
    "        json.dump(data, f, indent=4)"
   ]
  },
  {
   "cell_type": "code",
   "execution_count": 74,
   "metadata": {},
   "outputs": [],
   "source": [
    "def ExtractTestData(test_dir:str, code_type:str)->list:\n",
    "    data = []\n",
    "    for root, _, files in os.walk(test_dir):\n",
    "        for file in files:\n",
    "            if IsTestFile(file):\n",
    "                file_path = os.path.join(root, file)\n",
    "\n",
    "                with open(file_path, \"r\", encoding=\"utf-8\") as f:\n",
    "                    try:\n",
    "                        tree = ast.parse(f.read())\n",
    "                    except:\n",
    "                        continue\n",
    "                \n",
    "                for node in ast.walk(tree):\n",
    "                    if isinstance(node, (ast.FunctionDef, ast.AsyncFunctionDef)):\n",
    "                        start_line = node.lineno\n",
    "                        end_line = node.end_lineno\n",
    "                        num_lines = end_line-start_line\n",
    "                        if num_lines >= 5 and num_lines <= 35:\n",
    "                            with open(file_path, 'r', encoding='utf-8') as f:\n",
    "                                lines = f.readlines()\n",
    "                                code_block = ''.join(lines[start_line - 1:end_line])\n",
    "                                loc = \"\\\\\".join(file_path.split(\"\\\\\")[11:])  # hardcode: index\n",
    "                                dic = {\"code\":code_block, \"type\":code_type, \"loc\":loc}\n",
    "                                data.append(dic)\n",
    "\n",
    "    return data"
   ]
  },
  {
   "cell_type": "code",
   "execution_count": 77,
   "metadata": {},
   "outputs": [],
   "source": [
    "dj_test_dir = \"C:\\\\Users\\\\Ting\\\\Desktop\\\\TingTing\\\\UWaterloo\\\\courses\\\\Fall 2024\\\\CS846\\\\project\\\\test\\\\django\\\\tests\"\n",
    "code_type = \"django\"\n",
    "data = ExtractTestData(dj_test_dir, code_type)\n",
    "WriteToJson(\"dj_test.json\",data)"
   ]
  },
  {
   "cell_type": "code",
   "execution_count": 78,
   "metadata": {},
   "outputs": [],
   "source": [
    "fl_test_dir = \"C:\\\\Users\\\\Ting\\\\Desktop\\\\TingTing\\\\UWaterloo\\\\courses\\\\Fall 2024\\\\CS846\\\\project\\\\test\\\\flask\\\\tests\"\n",
    "code_type = \"flask\"\n",
    "data = ExtractTestData(fl_test_dir, code_type)\n",
    "WriteToJson(\"fl_test.json\",data)"
   ]
  },
  {
   "cell_type": "code",
   "execution_count": null,
   "metadata": {},
   "outputs": [],
   "source": []
  }
 ],
 "metadata": {
  "kernelspec": {
   "display_name": "cs846",
   "language": "python",
   "name": "python3"
  },
  "language_info": {
   "codemirror_mode": {
    "name": "ipython",
    "version": 3
   },
   "file_extension": ".py",
   "mimetype": "text/x-python",
   "name": "python",
   "nbconvert_exporter": "python",
   "pygments_lexer": "ipython3",
   "version": "3.12.5"
  }
 },
 "nbformat": 4,
 "nbformat_minor": 2
}
