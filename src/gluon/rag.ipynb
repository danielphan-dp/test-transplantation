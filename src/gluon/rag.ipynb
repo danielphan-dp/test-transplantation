{
 "cells": [
  {
   "cell_type": "markdown",
   "metadata": {},
   "source": [
    "# FastAPI & Flask\n",
    "- Donor: FastAPI\n",
    "- Host: Flask\n",
    "- Embedding Model: sentence-transformers/all-mpnet-base-v2"
   ]
  },
  {
   "cell_type": "markdown",
   "metadata": {},
   "source": [
    "Pipeline:\n",
    "1. Load Test Data from donor and host and store embeddings and metadata to DB\n",
    "2. Given the organ to transplant from the donor program, use cosine similarity to search for relevant unit tests from  donor (retrieval).\n",
    "3. For each retrieved unit test, we map with the most similar unit test in host program, maybe using cosine similarity as well.\n",
    "4. Ask LLM to generate the transplanted code, given the feature code, relevant unit tests from the donor, and mapping functions."
   ]
  },
  {
   "cell_type": "code",
   "execution_count": 2,
   "metadata": {},
   "outputs": [],
   "source": [
    "import torch\n",
    "import faiss\n",
    "from uuid import uuid4\n",
    "import json\n",
    "\n",
    "from sentence_transformers import SentenceTransformer\n",
    "from langchain_community.docstore.in_memory import InMemoryDocstore\n",
    "from langchain_community.vectorstores import FAISS\n",
    "from langchain_huggingface import HuggingFaceEmbeddings\n",
    "from langchain_core.documents import Document"
   ]
  },
  {
   "cell_type": "code",
   "execution_count": 3,
   "metadata": {},
   "outputs": [],
   "source": [
    "# Load Data\n",
    "num_data = 300\n",
    "\n",
    "def LoadData(json_file, num_data=300):\n",
    "    with open(json_file) as file:\n",
    "        return json.load(file)[\"tests\"][:num_data]\n",
    "\n",
    "donor = LoadData(\"..\\\\__internal__\\\\collected_tests\\\\collected_tests__fastapi.json\", num_data)\n",
    "host = LoadData(\"..\\\\__internal__\\\\collected_tests\\\\collected_tests__flask.json\", num_data)\n",
    "organ = donor[-1]"
   ]
  },
  {
   "cell_type": "code",
   "execution_count": 11,
   "metadata": {},
   "outputs": [],
   "source": [
    "index_name = \"index\"\n",
    "db_path = \"..\\\\__internal__\\\\faissdb\"\n",
    "embedding_model_name = \"sentence-transformers/all-mpnet-base-v2\"\n",
    "embeddings = HuggingFaceEmbeddings(model_name=embedding_model_name)\n",
    "# other embedding to try: all-MiniLM-L6-v2"
   ]
  },
  {
   "cell_type": "code",
   "execution_count": 16,
   "metadata": {},
   "outputs": [],
   "source": [
    "class VectorDB:\n",
    "    def __init__(self):\n",
    "        pass\n",
    "\n",
    "    def __call__(self):\n",
    "        raise NotImplementedError(\"method not implemented\") \n",
    "    \n",
    "\n",
    "class FaissDB(VectorDB):\n",
    "    def __init__(self, embedding_model_name):\n",
    "        self.embeddings = HuggingFaceEmbeddings(model_name=embedding_model_name)    \n",
    "        self.vector = FAISS(\n",
    "            embedding_function=embeddings,\n",
    "            index=faiss.IndexFlatL2(768),\n",
    "            docstore=InMemoryDocstore(),\n",
    "            index_to_docstore_id={},\n",
    "        )\n",
    "\n",
    "    def StoreData(self, data, type=\"host\"):\n",
    "        documents = []\n",
    "        for d in data:\n",
    "            d[\"type\"] = type\n",
    "            doc = Document(\n",
    "                page_content=d[\"source_code\"],\n",
    "                metadata={k: v for k, v in d.items() if k != \"source_code\"},\n",
    "            )\n",
    "            documents.append(doc)\n",
    "        \n",
    "        uuids = [str(uuid4()) for _ in range(len(documents))]\n",
    "        self.vector.add_documents(documents=documents, ids=uuids)\n",
    "\n",
    "\n",
    "    def SaveToLocal(self, path, index_name=\"index\"):\n",
    "        self.vector.save_local(path, index_name)\n",
    "\n",
    "    def LoadFromLocal(self, path, index_name=\"index\"):\n",
    "        self.vector = FAISS.load_local(path, self.embeddings, index_name, allow_dangerous_deserialization=True)\n",
    "        return self.vector\n",
    "\n",
    "    def GetVector(self):\n",
    "        return self.vector\n",
    "\n"
   ]
  },
  {
   "cell_type": "code",
   "execution_count": null,
   "metadata": {},
   "outputs": [],
   "source": [
    "db = FaissDB(embedding_model_name)"
   ]
  },
  {
   "cell_type": "code",
   "execution_count": 18,
   "metadata": {},
   "outputs": [],
   "source": [
    "db.StoreData(host, type=\"host\")\n",
    "db.StoreData(donor, type=\"donor\")\n",
    "db.SaveToLocal(db_path)"
   ]
  },
  {
   "cell_type": "code",
   "execution_count": 20,
   "metadata": {},
   "outputs": [],
   "source": [
    "vector_store = db.LoadFromLocal(db_path, index_name)"
   ]
  },
  {
   "cell_type": "code",
   "execution_count": 21,
   "metadata": {},
   "outputs": [
    {
     "name": "stdout",
     "output_type": "stream",
     "text": [
      "Organ\n",
      "def test_query_repr_none():\n",
      "    assert repr(Query(None)) == \"Query(None)\"\n",
      "Results:\n",
      "def test_query_repr_none():\n",
      "    assert repr(Query(None)) == \"Query(None)\"\n",
      "def test_query_repr_str():\n",
      "    assert repr(Query(\"teststr\")) == \"Query(teststr)\"\n",
      "def test_param_repr_none():\n",
      "    assert repr(Param(None)) == \"Param(None)\"\n",
      "def test_param_repr_str():\n",
      "    assert repr(Param(\"teststr\")) == \"Param(teststr)\"\n",
      "def test_param_repr_number():\n",
      "    assert repr(Param(1)) == \"Param(1)\"\n"
     ]
    }
   ],
   "source": [
    "# retrieval: retrieving unit tests from the donor that are most relevant to the organ\n",
    "donor_retrieved = vector_store.similarity_search_with_score(\n",
    "    organ[\"source_code\"], k=5, filter={\"type\":\"donor\"}\n",
    ")\n",
    "print(\"Organ\\n\"+organ[\"source_code\"])\n",
    "print(f\"Results:\\n{\"\\n\".join([result[0].page_content for result in donor_retrieved])}\")"
   ]
  },
  {
   "cell_type": "code",
   "execution_count": 22,
   "metadata": {},
   "outputs": [
    {
     "name": "stdout",
     "output_type": "stream",
     "text": [
      "Donor Unit Test:\n",
      "def test_query_repr_none():\n",
      "    assert repr(Query(None)) == \"Query(None)\"\n",
      "Mapped Host Unit Test:\n",
      "def test_run_defaults(monkeypatch, app):\n",
      "    rv = {}\n",
      "\n",
      "    # Mocks werkzeug.serving.run_simple method\n",
      "    def run_simple_mock(*args, **kwargs):\n",
      "        rv[\"result\"] = \"running...\"\n",
      "\n",
      "    monkeypatch.setattr(werkzeug.serving, \"run_simple\", run_simple_mock)\n",
      "    app.run()\n",
      "    assert rv[\"result\"] == \"running...\"\n",
      "\n",
      "Donor Unit Test:\n",
      "def test_query_repr_str():\n",
      "    assert repr(Query(\"teststr\")) == \"Query(teststr)\"\n",
      "Mapped Host Unit Test:\n",
      "def test_method_route(app, client, method):\n",
      "    method_route = getattr(app, method)\n",
      "    client_method = getattr(client, method)\n",
      "\n",
      "    @method_route(\"/\")\n",
      "    def hello():\n",
      "        return \"Hello\"\n",
      "\n",
      "    assert client_method(\"/\").data == b\"Hello\"\n",
      "\n",
      "Donor Unit Test:\n",
      "def test_param_repr_none():\n",
      "    assert repr(Param(None)) == \"Param(None)\"\n",
      "Mapped Host Unit Test:\n",
      "def test_method_route(app, client, method):\n",
      "    method_route = getattr(app, method)\n",
      "    client_method = getattr(client, method)\n",
      "\n",
      "    @method_route(\"/\")\n",
      "    def hello():\n",
      "        return \"Hello\"\n",
      "\n",
      "    assert client_method(\"/\").data == b\"Hello\"\n",
      "\n",
      "Donor Unit Test:\n",
      "def test_param_repr_str():\n",
      "    assert repr(Param(\"teststr\")) == \"Param(teststr)\"\n",
      "Mapped Host Unit Test:\n",
      "def test_method_route(app, client, method):\n",
      "    method_route = getattr(app, method)\n",
      "    client_method = getattr(client, method)\n",
      "\n",
      "    @method_route(\"/\")\n",
      "    def hello():\n",
      "        return \"Hello\"\n",
      "\n",
      "    assert client_method(\"/\").data == b\"Hello\"\n",
      "\n",
      "Donor Unit Test:\n",
      "def test_param_repr_number():\n",
      "    assert repr(Param(1)) == \"Param(1)\"\n",
      "Mapped Host Unit Test:\n",
      "def test_method_route(app, client, method):\n",
      "    method_route = getattr(app, method)\n",
      "    client_method = getattr(client, method)\n",
      "\n",
      "    @method_route(\"/\")\n",
      "    def hello():\n",
      "        return \"Hello\"\n",
      "\n",
      "    assert client_method(\"/\").data == b\"Hello\"\n",
      "\n"
     ]
    }
   ],
   "source": [
    "# Function Mapping: mapping the retrieved unit tests with the unit test in host\n",
    "mapped_func = {}\n",
    "for result in donor_retrieved:\n",
    "    donor_content = result[0].page_content\n",
    "    relevant_host = vector_store.similarity_search_with_score(\n",
    "        donor_content, k=1, filter={\"type\":\"host\"}\n",
    "    )\n",
    "    print(\"Donor Unit Test:\\n\"+donor_content)\n",
    "    print(f\"Mapped Host Unit Test:\\n{\"\\n\".join([result[0].page_content for result in relevant_host])}\\n\")\n",
    "    mapped_func[donor_content] = [result[0].page_content for result in relevant_host]"
   ]
  },
  {
   "cell_type": "code",
   "execution_count": 23,
   "metadata": {},
   "outputs": [],
   "source": [
    "# Turn the mapped dict to a string format for the prompt\n",
    "pair = \"\"\n",
    "i = 1\n",
    "for donor, host in mapped_func.items():\n",
    "    pair += f\"Pair {i}:\\nDonor:\\n{donor}\\nHost:\\n{host[0]}\\n\\n\"\n",
    "    i += 1"
   ]
  },
  {
   "cell_type": "code",
   "execution_count": 24,
   "metadata": {},
   "outputs": [],
   "source": [
    "# Augementation and Generation\n",
    "prompt = f\"\"\"\n",
    "Your task is to help me generate a transplanted unit test code from a donor program to a \n",
    "host program. Both programs are written in Python. The code to be transplanted (the 'organ') \n",
    "is as follows: \\n\\n{organ[\"source_code\"]}\\n\n",
    "\n",
    "We have identified relevant donor-host pairs using cosine similarity based on the unit test \n",
    "in the organ. However, these pairs may not exactly test the same functionality.\n",
    "\n",
    "Using these top relevant pairs as guidance, please help me write a unit test that transplants \n",
    "the functionality from the donor into the host program. Here are the identified pairs:\n",
    "{pair}\n",
    "\"\"\""
   ]
  },
  {
   "cell_type": "code",
   "execution_count": 25,
   "metadata": {},
   "outputs": [],
   "source": [
    "from openai import OpenAI\n",
    "import os\n",
    "client = OpenAI(\n",
    "    api_key = os.environ.get(\"OPENAI_API_KEY\")\n",
    ")\n",
    "\n",
    "response = client.chat.completions.create(\n",
    "    model=\"gpt-4o-mini\",\n",
    "    messages=[{\"role\": \"user\", \"content\": prompt}]\n",
    ")"
   ]
  },
  {
   "cell_type": "code",
   "execution_count": 26,
   "metadata": {},
   "outputs": [
    {
     "name": "stdout",
     "output_type": "stream",
     "text": [
      "Organ: def test_query_repr_none():\n",
      "    assert repr(Query(None)) == \"Query(None)\"\n",
      "\n",
      "Given the provided unit test from the donor code and its relevant host pairs, we can create a new unit test in the host program that specifically tests the `Query` class's string representation when initialized with `None`. \n",
      "\n",
      "I will leverage the structure from the host program while ensuring to correctly test the functionality of the `Query` class aligned with the donor code. Here’s how the transplanted unit test could look:\n",
      "\n",
      "```python\n",
      "def test_query_repr_none(app):\n",
      "    # Assuming 'Query' is a class defined somewhere in the host program\n",
      "    query_instance = Query(None)\n",
      "    \n",
      "    # Test the string representation of the Query object\n",
      "    assert repr(query_instance) == \"Query(None)\"\n",
      "```\n",
      "\n",
      "### Explanation:\n",
      "1. **Test Function Name**: I maintained the naming convention where the function describes what it tests, similar to the original donor test.\n",
      "2. **Creating an Instance**: I created an instance of a `Query` class with `None`, reflecting the functionality in the donor test.\n",
      "3. **Assertion**: Finally, the assertion checks that the representation of this instance matches the expected string.\n",
      "\n",
      "### Notes:\n",
      "- This example assumes that `Query` is defined and available in the scope of where the test is being written.\n",
      "- The host program already has a structural format for tests, but since the donor tests are purely testing behavioral aspects of classes, there’s flexibility on how they are integrated. \n",
      "- If there are any other details about the setup (like using a `client`, `method`, or `monkeypatch`), they could be integrated further depending on how the `Query` class is expected to be used and tested in the context of the host application.\n",
      "\n"
     ]
    }
   ],
   "source": [
    "print(f\"Organ: {organ[\"source_code\"]}\\n\")\n",
    "print(response.choices[0].message.content)"
   ]
  },
  {
   "cell_type": "code",
   "execution_count": null,
   "metadata": {},
   "outputs": [],
   "source": [
    "# https://python.langchain.com/docs/integrations/vectorstores/faiss/"
   ]
  }
 ],
 "metadata": {
  "kernelspec": {
   "display_name": "cs846",
   "language": "python",
   "name": "python3"
  },
  "language_info": {
   "codemirror_mode": {
    "name": "ipython",
    "version": 3
   },
   "file_extension": ".py",
   "mimetype": "text/x-python",
   "name": "python",
   "nbconvert_exporter": "python",
   "pygments_lexer": "ipython3",
   "version": "3.12.5"
  }
 },
 "nbformat": 4,
 "nbformat_minor": 2
}
